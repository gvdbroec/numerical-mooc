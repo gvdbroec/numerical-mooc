{
 "cells": [
  {
   "cell_type": "markdown",
   "metadata": {},
   "source": [
    "VANDEN BROECK Grégory\n",
    "$$$$MAISONNIER Manon"
   ]
  },
  {
   "cell_type": "markdown",
   "metadata": {},
   "source": [
    "$${\\color{green}{\\Huge{\\textbf{$\\fbox{TRAFIC FLOW}$}}}}$$"
   ]
  },
  {
   "cell_type": "markdown",
   "metadata": {},
   "source": [
    "$\\color{blue}{\\underline{\\huge{1.\\ Introduction}}}$"
   ]
  },
  {
   "cell_type": "markdown",
   "metadata": {},
   "source": [
    "Soit un tronçon de longueur $L$. Nous pouvons lui associer une densité $\\rho$ de voitures (voitures par km) qui dépend de la position et du moment.\n",
    "$$$$Disons que nous connaissons la vitesse maximale que les voitures peuvent avoir ainsi que la densité maximale de voitures sur ce morceau de route. Alors nous pouvons supposer que la vitesse des voitures est donnée par : \n",
    "$$V=V_{max}\\left(1-\\frac{\\rho}{\\rho_{max}}\\right)$$\n",
    "$$$$ Définissons le flux $F :$\n",
    "$$F = V \\rho  \\ \\ => \\ \\ \\frac{dF}{d\\rho}=V$$\n",
    "$$$$Comme $V$ dépend du temps et de la position, voici l'équation de convection non linéaire de $V$ : $$\\frac{dV}{dt}+V\\frac{dV}{dx}=0$$\n",
    "$$$$Avec la formule précédente, on obtient :\n",
    "$$\\frac{dV}{dt}+\\frac{dF}{d\\rho}\\frac{dV}{dx}=0 \\ \\ <=> \\ \\ \\frac{d\\rho}{dt}+\\frac{dF}{d\\rho}\\frac{d\\rho}{dx}=0$$\n",
    "$$$$Si nous discrétisons le problème dans le temps et l'espace, si nous définissons $\\rho$ au temps $t=0$ en tout point de l'espace considéré, et si nous imposons une valeur pour $\\rho(x=0)$ à tout instant $t$, alors on peut trouver, pas à pas dans le temps, tous les $\\rho$ pour tous les points de l'espace considéré grâce à la forward-difference dans le temps et la backward-difference dans l'espace :\n",
    "\n",
    "$$Forward-difference : \\frac{\\partial{u}}{\\partial{x}}\\approx \\frac{u(x_{i+1})-u(x_i)}{\\Delta{x}}$$\n",
    "$$Backward-difference : \\frac{\\partial{u}}{\\partial{x}}\\approx \\frac{u(x_i)-u(x_{i-1})}{\\Delta{x}}\\ \\ $$"
   ]
  },
  {
   "cell_type": "markdown",
   "metadata": {},
   "source": [
    "$\\color{blue}{\\underline{\\huge{2.\\ Code}}}$\n",
    "$$$$Définissons un vecteur qui représentera la vitesse en chaque point de l'espace considéré à un instant donné."
   ]
  },
  {
   "cell_type": "code",
   "execution_count": 1,
   "metadata": {
    "collapsed": false
   },
   "outputs": [],
   "source": [
    "import numpy\n",
    "\n",
    "nx = 51\n",
    "V = numpy.empty(nx)"
   ]
  },
  {
   "cell_type": "markdown",
   "metadata": {},
   "source": [
    "Créons une fonction qui nous renvoie la vitesse $V$ en chaque point de l'espace en fonction du temps $t$ (moment que l'on observe), de la condition aux bords $C0$ pour la densité et de la vitesse maximale $V_{max}$."
   ]
  },
  {
   "cell_type": "code",
   "execution_count": 2,
   "metadata": {
    "collapsed": false
   },
   "outputs": [],
   "source": [
    "def vitesse(C0,t,V_max) :\n",
    "   \n",
    "    # Données\n",
    "    L = 11 # Tronçon de route sur lequel nous allons résoudre le problème (en km)\n",
    "    rho_max = 250 # Densité de trafic maximale (en voitures/km)\n",
    "    dt = 0.001 # Intervalle de temps (en h)\n",
    "    nt = int((t/dt)+1)\n",
    "    dx = L/(nx-1)\n",
    "    d = dt/dx\n",
    "    \n",
    "    # On définit rho et ses conditions initiales\n",
    "    rho = numpy.empty((nt,nx))\n",
    "    rho0 = numpy.ones(nx)*C0\n",
    "    rho0[10:20] = 50\n",
    "    \n",
    "    if t == 0 :\n",
    "        V[:] = V_max*(1-rho0[:]/rho_max)\n",
    "    else:\n",
    "    # On fait les itérations temporelles\n",
    "        for n in range(1,nt) :  \n",
    "            un = rho0.copy()\n",
    "            F = V_max*un[:]*(1-un[:]/rho_max)\n",
    "            rho0[1:] = un[1:]-d*(F[1:]-F[0:-1])\n",
    "            rho0[0] = C0  # Condition aux bords\n",
    "            rho[n,:] = rho0[:]\n",
    "        V[:] = V_max*(1-rho[nt-1,:]/rho_max)\n",
    "    return V[:]"
   ]
  },
  {
   "cell_type": "markdown",
   "metadata": {},
   "source": [
    "$\\color{red}{\\large{\\textbf{Réponse aux questions de la partie A :}}}$"
   ]
  },
  {
   "cell_type": "code",
   "execution_count": 3,
   "metadata": {
    "collapsed": true
   },
   "outputs": [],
   "source": [
    "# Conditions initiales\n",
    "C0 = 10\n",
    "V_max = 80"
   ]
  },
  {
   "cell_type": "markdown",
   "metadata": {},
   "source": [
    "$\\textbf{1)}$ *Enter the minimum velocity at time t = 0 in meters per second.*\n",
    "$$$$$\\textbf{2)}$ *Enter the average velocity at time t = 3 minutes in meters per second.*\n",
    "$$$$$\\textbf{3)}$ *Enter the minimum velocity at time t = 6 minutes in meters per second.*"
   ]
  },
  {
   "cell_type": "code",
   "execution_count": 4,
   "metadata": {
    "collapsed": false
   },
   "outputs": [
    {
     "name": "stdout",
     "output_type": "stream",
     "text": [
      "1) 17.78 m/s\n"
     ]
    }
   ],
   "source": [
    "print(\"1)\", round(numpy.amin(vitesse(C0,0,V_max)/3.6),2), \"m/s\")"
   ]
  },
  {
   "cell_type": "code",
   "execution_count": 5,
   "metadata": {
    "collapsed": false
   },
   "outputs": [
    {
     "name": "stdout",
     "output_type": "stream",
     "text": [
      "2) 20.64 m/s\n"
     ]
    }
   ],
   "source": [
    "print(\"2)\", round(numpy.mean(vitesse(C0,3/60,V_max)/3.6),2), \"m/s\")"
   ]
  },
  {
   "cell_type": "code",
   "execution_count": 6,
   "metadata": {
    "collapsed": false
   },
   "outputs": [
    {
     "name": "stdout",
     "output_type": "stream",
     "text": [
      "3) 18.78 m/s\n"
     ]
    }
   ],
   "source": [
    "print(\"3)\", round(numpy.amin(vitesse(C0,6/60,V_max)/3.6),2), \"m/s\")"
   ]
  },
  {
   "cell_type": "markdown",
   "metadata": {},
   "source": [
    "$\\color{red}{\\large{\\textbf{Réponse aux questions de la partie B :}}}$"
   ]
  },
  {
   "cell_type": "code",
   "execution_count": 7,
   "metadata": {
    "collapsed": true
   },
   "outputs": [],
   "source": [
    "# Conditions initiales\n",
    "C0 = 20\n",
    "V_max = 136"
   ]
  },
  {
   "cell_type": "markdown",
   "metadata": {},
   "source": [
    "$\\textbf{1)}$ *Enter the minimum velocity at time t = 0 in meters per second.*\n",
    "$$$$$\\textbf{2)}$ *Enter the average velocity at time t = 3 minutes in meters per second.*\n",
    "$$$$$\\textbf{3)}$ *Enter the minimum velocity at time t = 3 minutes in meters per second.*"
   ]
  },
  {
   "cell_type": "code",
   "execution_count": 8,
   "metadata": {
    "collapsed": false
   },
   "outputs": [
    {
     "name": "stdout",
     "output_type": "stream",
     "text": [
      "1) 30.22 m/s\n"
     ]
    }
   ],
   "source": [
    "print(\"1)\", round(numpy.amin(vitesse(C0,0,V_max)/3.6),2), \"m/s\")"
   ]
  },
  {
   "cell_type": "code",
   "execution_count": 9,
   "metadata": {
    "collapsed": false
   },
   "outputs": [
    {
     "name": "stdout",
     "output_type": "stream",
     "text": [
      "2) 33.87 m/s\n"
     ]
    }
   ],
   "source": [
    "print(\"2)\", round(numpy.mean(vitesse(C0,3/60,V_max)/3.6),2), \"m/s\")"
   ]
  },
  {
   "cell_type": "code",
   "execution_count": 10,
   "metadata": {
    "collapsed": false
   },
   "outputs": [
    {
     "name": "stdout",
     "output_type": "stream",
     "text": [
      "3) 30.99 m/s\n"
     ]
    }
   ],
   "source": [
    "print(\"3)\", round(numpy.amin(vitesse(C0,3/60,V_max)/3.6),2), \"m/s\")"
   ]
  }
 ],
 "metadata": {
  "anaconda-cloud": {},
  "kernelspec": {
   "display_name": "Python [Root]",
   "language": "python",
   "name": "Python [Root]"
  },
  "language_info": {
   "codemirror_mode": {
    "name": "ipython",
    "version": 3
   },
   "file_extension": ".py",
   "mimetype": "text/x-python",
   "name": "python",
   "nbconvert_exporter": "python",
   "pygments_lexer": "ipython3",
   "version": "3.5.2"
  }
 },
 "nbformat": 4,
 "nbformat_minor": 0
}
