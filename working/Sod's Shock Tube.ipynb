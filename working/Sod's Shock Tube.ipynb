{
 "cells": [
  {
   "cell_type": "markdown",
   "metadata": {},
   "source": [
    "VANDEN BROECK Grégory\n",
    "$$$$MAISONNIER Manon"
   ]
  },
  {
   "cell_type": "markdown",
   "metadata": {},
   "source": [
    "$${\\color{green}{\\Huge{\\textbf{$\\fbox{Sod's Shock Tube}$}}}}$$"
   ]
  },
  {
   "cell_type": "markdown",
   "metadata": {},
   "source": [
    "$\\color{blue}{\\underline{\\huge{1.\\ Introduction}}}$"
   ]
  },
  {
   "cell_type": "markdown",
   "metadata": {},
   "source": [
    "On considère un tube de longueur $L = 20 m$ ($x$ va de $-10 m$ à $10 m$), séparé en son milieu par une membrane avec un gaz dans chaque partie ayant comme conditions initiales :\n",
    "\n",
    "$$IC_L = \\left[ \\begin{array}{ll1} \\rho_L\\\\ u_L\\\\ p_L\\end{array} \\right] = \\left[ \\begin{array}{ll1} \\ \\ \\ \\ 1\\ kg/m³\\\\ \\ \\ \\ \\ \\ \\ 0\\ m/s\\\\ 100\\ 000\\ N/m²\\end{array} \\right]$$ \n",
    "\n",
    "$$IC_R = \\left[ \\begin{array}{ll1} \\rho_R\\\\ u_R\\\\ p_R\\end{array} \\right] = \\left[ \\begin{array}{ll1} 0.125\\ kg/m³\\\\ \\ \\ \\ \\ \\ \\ 0\\ m/s\\\\ 10\\ 000\\ N/m²\\end{array} \\right] \\ $$\n",
    "\n",
    "Où $\\rho_L, u_L$ et $p_L$ représentent la densité, la vitesse et la pression initiale dans la partie gauche du tube, c'est-à-dire pour $-10 \\leq x < 0$\n",
    "\n",
    "$\\ \\ \\ \\ \\ \\rho_R , u_R$ et $p_R$ représentent la densité, la vitesse et la pression initiale dans la partie droite du tube, c'est-à-dire pour $0 \\leq x \\leq 10$\n",
    "\n",
    "Au temps $t=0\\ s$, la membrane est instantanément brisée. Une onde de choc se crée à cause de la différence de pression. Le gaz avec la pression la plus élevée, se déplace dans la partie où la pression est plus faible.\n",
    "\n",
    "$\\ $\n",
    "\n",
    "Les équations d'Euler consistent en la conservation de la masse, de l'impusion et de l'énergie. Les voici :\n",
    "\n",
    "$$\\bullet\\ Conservation\\ de\\ la\\ masse : \\frac{\\partial{\\rho}}{\\partial{t}} + \\frac{\\partial{(\\rho u)}}{\\partial{x}} = 0 \\ \\ \\ \\ \\ \\ \\ \\ \\ \\ \\ \\ \\ \\ \\ \\ \\ $$\n",
    "$$\\bullet\\ Conservation\\ de\\ l'impulsion : \\frac{\\partial{(\\rho u)}}{\\partial{t}} + \\frac{\\partial{(\\rho u² + p)}}{\\partial{x}} = 0$$\n",
    "$$\\bullet\\ Conservation\\ de\\ l'énergie : \\frac{\\partial{\\rho e_T}}{\\partial{t}} + \\frac{\\partial{(\\rho u e_T + p u)}}{\\partial{x}} = 0$$\n",
    "\n",
    "Où $\\rho$ est la densité du fluide, $u$ sa vitesse, $p$ sa pression et $e_T = e + \\frac{u²}{2}$ l'énergie totale par unité de masse (énergie interne + énergie cinétique).\n",
    "\n",
    "On remarque que les équations sont similaires à l'équation pour la densité de trafic vue dans le module 2. Si nous les écrivons en terme de vecteurs, nous obtenons ceci :\n",
    "\n",
    "$$\\frac{\\partial}{\\partial{t}}\\left[ \\begin{array}{ll1} \\ \\ \\rho\\\\ \\ \\rho u\\\\ \\rho e_T\\end{array} \\right] + \\frac{\\partial}{\\partial{x}}\\left[ \\begin{array}{ll1} \\ \\ \\ \\ \\ \\ \\ \\rho u\\\\ \\ \\ \\ \\rho u² + p\\\\ (\\rho e_T + p)u \\end{array} \\right] = 0$$\n",
    "\n",
    "Considérons 2 vecteurs $\\underline{u}$ et $\\underline{f}$ :\n",
    "$$\\underline{u} = \\left[ \\begin{array}{ll1} u_1\\\\u_2\\\\u_3\\end{array} \\right] = \\left[ \\begin{array}{ll1} \\ \\ \\rho\\\\ \\ \\rho u\\\\ \\rho e_T\\end{array} \\right]\\ \\ \\ \\ \\ \\ et\\ \\ \\ \\ \\ \\ \\underline{f} = \\left[ \\begin{array}{ll1} f_1\\\\f_2\\\\f_3\\end{array} \\right] = \\left[ \\begin{array}{ll1} \\ \\ \\ \\ \\ \\ \\ \\rho u\\\\ \\ \\ \\ \\rho u² + p\\\\ (\\rho e_T + p)u \\end{array} \\right]$$\n",
    "\n",
    "Nous obtenons ainsi l'équation que nous allons résoudre :\n",
    "$$\\frac{\\partial}{\\partial{t}} \\ \\underline{u} \\ + \\frac{\\partial}{\\partial{x}}\\ \\underline{f} = 0$$\n",
    "\n",
    "Cette équation est identique à celle pour la densité du trafic sauf que ici, les variables $\\underline{u}$ et $\\underline{f}$ sont des vecteurs.\n",
    "\n",
    "$\\ $\n",
    "\n",
    "Nous voyons que nous pouvons exprimer $\\underline{f}$ en terme de $\\underline{u}$ : $\\underline{f} = f(\\ \\underline{u}\\ )$. Faisons-le !\n",
    "\n",
    "Pour un gaz idéal, l'équation d'état est : $e = \\frac{p}{(\\gamma -1)\\rho}$ où $\\gamma = \\frac{C_P}{C_V} = 1,4$ correspond à la valeur théorique pour un gaz parfait diatomique. Ce $\\gamma$ représente le rapport des capacités thermiques à pression constante $(C_P)$ et à volume constant $(C_V)$. Isolons la pression : $p = (\\gamma -1)\\rho e$.\n",
    "\n",
    "Avec la formule pour l'énergie totale exprimée plus haut, nous obtenons : $p = (\\gamma -1)\\left(\\rho e_T - \\frac{\\rho u²}{2}\\right)$. Et en exprimant cette pression en fonction des composantes de $\\underline{u}$, on a :\n",
    "$$p = (\\gamma -1)\\left(u_3 - \\frac{1}{2}\\frac{u_2²}{u_1}\\right)$$\n",
    "\n",
    "\n",
    "\n",
    "Nous avons donc tout ce qu'il faut pour exprimer $\\underline{f}$ en fonction des composantes de $\\underline{u}$ :\n",
    "\n",
    "$$\\underline{f} = \\left[ \\begin{array}{ll1} f_1\\\\f_2\\\\f_3\\end{array} \\right] = \\left[ \\begin{array}{ll1} \\ \\ \\ \\ \\ \\ \\ \\ \\ \\ \\ \\ \\ \\ \\ \\ \\ \\ \\ \\ \\ \\ \\ u_2\\\\ \\ \\ \\ \\ \\frac{u_2²}{u_1} + (\\gamma -1)\\left(u_3 - \\frac{1}{2}\\frac{u_2²}{u_1}\\right)\\\\ \\left(u_3 + (\\gamma -1)\\left(u_3 - \\frac{1}{2}\\frac{u_2²}{u_1}\\right)\\right)\\frac{u_2}{u_1} \\end{array} \\right]$$\n",
    "\n",
    "$\\ $\n",
    "\n",
    "$\\ $\n",
    "\n",
    "Pour résoudre notre équation, nous allons utiliser la méthode de Richtmyer. Contrairement à la méthode que nous avons utilisée dans le module 2 (backward-difference in space and forward-difference in time), cette méthode utilise un pas intermédaire pour calculer l'étape suivante. Cette méthode, là voici :\n",
    "\n",
    "$$\\underline{u}^{n+\\frac{1}{2}}_{i+\\frac{1}{2}} = \\frac{1}{2}\\left(\\underline{u}^n_{i+1} + \\underline{u}^n_i \\right) - \\frac{\\Delta t}{2\\Delta x}\\left(\\underline{f}^n_{i+1}-\\underline{f}^n_i\\right)$$\n",
    "$$\\underline{u}^{n+1}_i = \\underline{u}^n_i - \\frac{\\Delta t}{\\Delta x}\\left(\\underline{f}^{n+\\frac{1}{2}}_{i+\\frac{1}{2}}-\\underline{f}^{n+\\frac{1}{2}}_{i-\\frac{1}{2}}\\right)$$\n",
    "\n",
    "\n",
    "Nous allons ainsi pouvoir résoudre le problème et déterminer la pression, la densité ainsi que la vitesse dans le tube à choc à un certain temps $t.$"
   ]
  },
  {
   "cell_type": "markdown",
   "metadata": {
    "collapsed": true
   },
   "source": [
    "$\\color{blue}{\\underline{\\huge{2.\\ Code}}}$"
   ]
  },
  {
   "cell_type": "code",
   "execution_count": 1,
   "metadata": {
    "collapsed": true
   },
   "outputs": [],
   "source": [
    "import numpy\n",
    "\n",
    "nx = 81\n",
    "dx = 0.25\n",
    "dt = 0.0002\n",
    "gamma = 1.4 \n",
    "\n",
    "x1 = -10\n",
    "x2 = 10\n",
    "L = x2-x1\n",
    "nx0 = int((L/(2*dx))+1)\n",
    "\n",
    "rhoL = 1.0 # Densité initiale dans la partie gauche du tube (en kg/m³)\n",
    "uL = 0.0 # Vitesse initiale dans la partie gauche du tube (en m/s)\n",
    "PL = 100000.0 # Pression initiale dans la partie gauche du tube (en N/m²)\n",
    "\n",
    "rhoR = 0.125 # Densité initiale dans la partie droite du tube (en kg/m³)\n",
    "uR = 0.0 # Densité initiale dans la partie droite du tube (en m/s)\n",
    "PR = 10000.0 # Densité initiale dans la partie droite du tube (en N/m²)"
   ]
  },
  {
   "cell_type": "markdown",
   "metadata": {},
   "source": [
    "Ici, nous créons une fonction qui nous donne les vecteurs $\\underline{f}$ en fonction de $\\underline{u}$"
   ]
  },
  {
   "cell_type": "code",
   "execution_count": 2,
   "metadata": {
    "collapsed": false
   },
   "outputs": [],
   "source": [
    "def f(u1):\n",
    "    # Vecteur f en fonction du vecteur u en tout point de l'espace (discrétisé)\n",
    "    p = numpy.empty(nx) # Pression\n",
    "    p[:] = (gamma-1)*(u1[2,:]-0.5*u1[1,:]*u1[1,:]/u1[0,:]) # Pression en fonction du vecteur u\n",
    "    f = numpy.empty((3,nx)) # Vecteur f\n",
    "    f[0,:] = u1[1,:]\n",
    "    f[1,:] = (u1[1,:]*u1[1,:]/u1[0,:])+p[:]\n",
    "    f[2,:] = (u1[2,:]+p[:])*u1[1,:]/u1[0,:]\n",
    "    return f[:,:] # Vecteur f en fonction du vecteur u"
   ]
  },
  {
   "cell_type": "markdown",
   "metadata": {},
   "source": [
    "Nous créons une fonction qui effectue les itérations de Richtmyer jusqu'au tempts $t$ (enfin le $nt$ correspondant au $t$) et qui renvoie le vecteur vitesse au temps $t$ et à la position $x$."
   ]
  },
  {
   "cell_type": "code",
   "execution_count": 3,
   "metadata": {
    "collapsed": false
   },
   "outputs": [],
   "source": [
    "def it(t,x,c):\n",
    "    y = x+10\n",
    "    nx1 = int((y/dx)+1)\n",
    "    nt = int((t/dt)+1)\n",
    "    u = numpy.empty((3,nx,nt))\n",
    "    d = dt/dx\n",
    "    u0 = numpy.empty((3,nx)) # Conditions initiales\n",
    "    u0L = numpy.array([rhoL, rhoL*uL, rhoL*((PL/((gamma-1)*rhoL))+((uL*uL)/2))])\n",
    "    u0R = numpy.array([rhoR, rhoR*uR, rhoR*((PR/((gamma-1)*rhoR))+((uR*uR)/2))])\n",
    "    for i in range(0,3):\n",
    "        u0[i,:nx0] = u0L[i]\n",
    "        u0[i,nx0:] = u0R[i]\n",
    "    for n in range(1,nt):  # Les itérations\n",
    "        un = u0.copy()\n",
    "        f1 = f(un)\n",
    "        un2 = numpy.empty((3,nx))\n",
    "        un2[:,1:] = 0.5*(un[:,1:]+un[:,0:-1]) - 0.5*d*(f1[:,1:]-f1[:,0:-1])\n",
    "        f2 = f(un2)\n",
    "        u0[:,1:-1] = un[:,1:-1]-d*(f2[:,2:]-f2[:,1:-1]) \n",
    "        u[:,:,n] = u0[:,:]\n",
    "    if c is 0:\n",
    "        U = numpy.empty(3)\n",
    "        U[:] = u[:,nx1,nt-1]\n",
    "        return U\n",
    "#    if c is 1:\n",
    "#        Ux = numpy.empty((3,nt))\n",
    "#        Ux[:,:]=u[:,nx1,:]\n",
    "#        return Ux\n",
    "#    if c is 2:\n",
    "#        Ut = numpy.empty((3,nx))\n",
    "#        Ut[:,:]=u[:,:,nt-1]\n",
    "#        return Ut"
   ]
  },
  {
   "cell_type": "markdown",
   "metadata": {
    "collapsed": true
   },
   "source": [
    "$\\color{red}{\\large{\\textbf{Réponse aux questions :}}}$"
   ]
  },
  {
   "cell_type": "markdown",
   "metadata": {
    "collapsed": true
   },
   "source": [
    "$\\textbf{1)}$ *Enter the velocity at x = 2.5 m in m/s*\n",
    "$$$$$\\textbf{2)}$ *Enter the pressure at x = 2.5 m in N/m²*\n",
    "$$$$$\\textbf{3)}$ *Enter the density at x = 2.5 m in kg/m³*"
   ]
  },
  {
   "cell_type": "code",
   "execution_count": 4,
   "metadata": {
    "collapsed": false
   },
   "outputs": [
    {
     "name": "stderr",
     "output_type": "stream",
     "text": [
      "C:\\Users\\Greg\\Anaconda3\\lib\\site-packages\\ipykernel\\__main__.py:8: RuntimeWarning: overflow encountered in true_divide\n",
      "C:\\Users\\Greg\\Anaconda3\\lib\\site-packages\\ipykernel\\__main__.py:4: RuntimeWarning: overflow encountered in multiply\n",
      "C:\\Users\\Greg\\Anaconda3\\lib\\site-packages\\ipykernel\\__main__.py:7: RuntimeWarning: overflow encountered in multiply\n",
      "C:\\Users\\Greg\\Anaconda3\\lib\\site-packages\\ipykernel\\__main__.py:7: RuntimeWarning: invalid value encountered in add\n",
      "C:\\Users\\Greg\\Anaconda3\\lib\\site-packages\\ipykernel\\__main__.py:4: RuntimeWarning: divide by zero encountered in true_divide\n",
      "C:\\Users\\Greg\\Anaconda3\\lib\\site-packages\\ipykernel\\__main__.py:7: RuntimeWarning: divide by zero encountered in true_divide\n"
     ]
    },
    {
     "name": "stdout",
     "output_type": "stream",
     "text": [
      "1) La vitesse en x = 2,5 m est de 292.61 m/s\n",
      "2) La pression en x = 2,5 m est de 30250.89 N/m²\n",
      "3) La densité en x = 2,5 m est de 0.37 kg/m³\n"
     ]
    }
   ],
   "source": [
    "vitesse = it(0.01,2.5,0)[1]/it(0.01,2.5,0)[0]\n",
    "pression = (gamma-1)*(it(0.01,2.5,0)[2]-0.5*it(0.01,2.5,0)[1]*it(0.01,2.5,0)[1]/it(0.01,2.5,0)[0]) \n",
    "densité = it(0.01,2.5,0)[0]\n",
    "print(\"1) La vitesse en x = 2,5 m est de\", round(vitesse,2), \"m/s\")\n",
    "print(\"2) La pression en x = 2,5 m est de\", round(pression,2), \"N/m²\")\n",
    "print(\"3) La densité en x = 2,5 m est de\", round(densité,2), \"kg/m³\")"
   ]
  },
  {
   "cell_type": "markdown",
   "metadata": {},
   "source": [
    "$\\color{red}{\\underline{\\textbf{Remarque}}:}$\n",
    "Malgré le fait que obtenons les bonnes réponses pour les 3 questions demandées, nous n'arrivons pas à résoudre et comprendre le message d'erreur qu'il nous est montré. Nous tenions à vous le signaler."
   ]
  }
 ],
 "metadata": {
  "anaconda-cloud": {},
  "kernelspec": {
   "display_name": "Python [Root]",
   "language": "python",
   "name": "Python [Root]"
  },
  "language_info": {
   "codemirror_mode": {
    "name": "ipython",
    "version": 3
   },
   "file_extension": ".py",
   "mimetype": "text/x-python",
   "name": "python",
   "nbconvert_exporter": "python",
   "pygments_lexer": "ipython3",
   "version": "3.5.2"
  }
 },
 "nbformat": 4,
 "nbformat_minor": 0
}
