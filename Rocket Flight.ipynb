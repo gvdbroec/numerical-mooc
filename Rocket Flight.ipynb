{
 "cells": [
  {
   "cell_type": "code",
   "execution_count": 15,
   "metadata": {
    "collapsed": false
   },
   "outputs": [],
   "source": [
    "import numpy \n",
    "from matplotlib import pyplot\n",
    "\n",
    "m_s = 50 # Masse de la fusée\n",
    "g = 9.81\n",
    "rho = 1.091 # Densité de l'air\n",
    "r = 0.5\n",
    "A = (numpy.pi)*(r**2) # Surface maximum d'une section de la fusée avec un rayon de 0.5m\n",
    "v_e = 325 # Vitesse d'échappement du carburant\n",
    "C_D = 0.15 # Coefficient de trainée\n",
    "m_p0 = 100 # Masse du carburant au temps t = 0\n",
    "dt = 0.1\n",
    "h0 = 0\n",
    "v0 = 0\n",
    "m_p_point_init = 20\n",
    "end = 4.9 # En mettant end = 5, on fait une itération en trop pour v_point et on obtient pas la bonne vitesse maximum\n",
    "\n",
    "def m_p_point(t) :\n",
    "    \"\"\"\n",
    "    m_p_point correspond à la dérivée de m_p par rapport au temps\n",
    "    Quand t < 5, m_p_point vaut 20. L'intégrale de 0 à t vaut donc 20*t.\n",
    "    Quand t > 5, m_p_point vaut 0.\n",
    "    \"\"\"\n",
    "    if t < end:\n",
    "        return m_p_point_init\n",
    "    else:\n",
    "        return 0\n",
    "\n",
    "def integrer(t):\n",
    "    \"\"\"\n",
    "    L'intégrale de 0 à t = l'intégrale de 0 à 5 + l'intégrale de 5 à t = 20*5 + 0*t\n",
    "    \"\"\"\n",
    "    if t < end:\n",
    "        return m_p_point(t)*t\n",
    "    else:\n",
    "        return m_p_point_init*5 \n",
    "\n",
    "def m_p(t) :\n",
    "    return m_p0 - integrer(t)"
   ]
  },
  {
   "cell_type": "code",
   "execution_count": 16,
   "metadata": {
    "collapsed": false
   },
   "outputs": [],
   "source": [
    "T = 50.\n",
    "dt = 0.1\n",
    "N = int(T/dt)+1\n",
    "t = numpy.linspace(0.0, T, N)\n",
    "u = numpy.empty((N, 2))\n",
    "u[0] = numpy.array([h0, v0])\n",
    "t0 = 0"
   ]
  },
  {
   "cell_type": "code",
   "execution_count": 17,
   "metadata": {
    "collapsed": false
   },
   "outputs": [],
   "source": [
    "def f(u,t) :\n",
    "    h = u[0]\n",
    "    v = u[1]\n",
    "    v_point = -g + ((m_p_point(t)*v_e)/(m_s + m_p(t))) - ((rho*v*abs(v)*A*C_D)/(2*(m_s + m_p(t))))\n",
    "    return numpy.array([v, v_point])\n"
   ]
  },
  {
   "cell_type": "code",
   "execution_count": 18,
   "metadata": {
    "collapsed": true
   },
   "outputs": [],
   "source": [
    "def euler_step(u, f, t):\n",
    "    return u + dt*f(u, t)"
   ]
  },
  {
   "cell_type": "code",
   "execution_count": 19,
   "metadata": {
    "collapsed": false
   },
   "outputs": [],
   "source": [
    "\n",
    "for n in range(N-1) :\n",
    "    u[n+1] = euler_step(u[n], f, t0)\n",
    "    t0 = t0 + dt"
   ]
  },
  {
   "cell_type": "code",
   "execution_count": 20,
   "metadata": {
    "collapsed": false
   },
   "outputs": [
    {
     "name": "stdout",
     "output_type": "stream",
     "text": [
      "La vitesse maximum de la fusée est de 232.106133413 m/s  elle est atteinte en un temps de 5.0 s et son altitude est de 523.522834292 m\n"
     ]
    }
   ],
   "source": [
    "max_s = 0\n",
    "h_max_s=0\n",
    "i=0\n",
    "for vect in u :\n",
    "    while vect[1] > max_s :\n",
    "        max_s = vect[1]\n",
    "        h_max_s=vect[0]\n",
    "        i=i+1\n",
    "temps=i*dt \n",
    "\n",
    "print (\"La vitesse maximum de la fusée est de\", max_s , \"m/s\", \" elle est atteinte en un temps de\", temps, \"s\", \"et son altitude est de\", h_max_s , \"m\")\n",
    "       "
   ]
  },
  {
   "cell_type": "code",
   "execution_count": 21,
   "metadata": {
    "collapsed": false
   },
   "outputs": [
    {
     "name": "stdout",
     "output_type": "stream",
     "text": [
      "La hauteur maximum de la fusée lors de son vol est de 1334.18294543 m, qu'elle atteint en un temps de 15.600000000000001 s\n"
     ]
    }
   ],
   "source": [
    "max_h = 0\n",
    "i=0\n",
    "for vect in u :\n",
    "    while vect[0] > max_h :\n",
    "        max_h = vect[0]\n",
    "        i=i+1\n",
    "temps = i*dt\n",
    "print (\"La hauteur maximum de la fusée lors de son vol est de\", max_h, \"m, qu'elle atteint en un temps de\", temps, \"s\")"
   ]
  },
  {
   "cell_type": "code",
   "execution_count": 37,
   "metadata": {
    "collapsed": false
   },
   "outputs": [
    {
     "name": "stdout",
     "output_type": "stream",
     "text": [
      "La vitesse d'impact est de [-86.00683498] m/s et la durée de vol est de 37.2 s\n"
     ]
    }
   ],
   "source": [
    "\n",
    "vi = numpy.empty((500, 1))\n",
    "i=0\n",
    "j=1\n",
    "for vect in u :\n",
    "    if vect[0] == abs(vect[0]) :\n",
    "        j=j+1\n",
    "    else :\n",
    "        vi[i]=vect[1]\n",
    "        i =i+1\n",
    "temps= j*dt    \n",
    "\n",
    "print(\"La vitesse d'impact est de\", vi[0] , \"m/s\", \"et la durée de vol est de\", temps, \"s\" )"
   ]
  }
 ],
 "metadata": {
  "anaconda-cloud": {},
  "kernelspec": {
   "display_name": "Python [Root]",
   "language": "python",
   "name": "Python [Root]"
  },
  "language_info": {
   "codemirror_mode": {
    "name": "ipython",
    "version": 3
   },
   "file_extension": ".py",
   "mimetype": "text/x-python",
   "name": "python",
   "nbconvert_exporter": "python",
   "pygments_lexer": "ipython3",
   "version": "3.5.2"
  }
 },
 "nbformat": 4,
 "nbformat_minor": 0
}
